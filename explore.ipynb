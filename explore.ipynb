{
 "cells": [
  {
   "cell_type": "code",
   "execution_count": 22,
   "metadata": {},
   "outputs": [
    {
     "name": "stderr",
     "output_type": "stream",
     "text": [
      "/Users/gabrielgtrigo/Github/AiFossStack/.venv/lib/python3.11/site-packages/tqdm/auto.py:21: TqdmWarning: IProgress not found. Please update jupyter and ipywidgets. See https://ipywidgets.readthedocs.io/en/stable/user_install.html\n",
      "  from .autonotebook import tqdm as notebook_tqdm\n"
     ]
    },
    {
     "data": {
      "text/plain": [
       "<llama_index.indices.vector_store.base.VectorStoreIndex at 0x155295810>"
      ]
     },
     "execution_count": 22,
     "metadata": {},
     "output_type": "execute_result"
    }
   ],
   "source": [
    "from time import time\n",
    "from llama_index import VectorStoreIndex, ServiceContext, Document, SimpleDirectoryReader\n",
    "from llama_index.llms import Ollama\n",
    "\n",
    "reader = SimpleDirectoryReader(input_dir='./data', recursive=True)\n",
    "docs = reader.load_data()\n",
    "service_context = ServiceContext.from_defaults(embed_model=\"local\", llm=Ollama(model=\"zephyr\", temperature=0.5))  #try model=\"zephyr\" for better but slower results.\n",
    "index = VectorStoreIndex.from_documents(docs, service_context=service_context)\n",
    "index"
   ]
  },
  {
   "cell_type": "code",
   "execution_count": 23,
   "metadata": {},
   "outputs": [],
   "source": [
    "import pickle\n",
    "\n",
    "a = pickle.dumps(index)"
   ]
  },
  {
   "cell_type": "code",
   "execution_count": 24,
   "metadata": {},
   "outputs": [
    {
     "data": {
      "text/plain": [
       "1822073"
      ]
     },
     "execution_count": 24,
     "metadata": {},
     "output_type": "execute_result"
    }
   ],
   "source": [
    "len(a)"
   ]
  },
  {
   "cell_type": "code",
   "execution_count": 12,
   "metadata": {},
   "outputs": [
    {
     "name": "stderr",
     "output_type": "stream",
     "text": [
      "config.json: 100%|██████████| 684/684 [00:00<00:00, 239kB/s]huggingface/tokenizers: The current process just got forked, after parallelism has already been used. Disabling parallelism to avoid deadlocks...\n",
      "To disable this warning, you can either:\n",
      "\t- Avoid using `tokenizers` before the fork if possible\n",
      "\t- Explicitly set the environment variable \n",
      "TOKENIZERS_PARALLELISM=(true | false)\n",
      "model.safetensors: 100%|██████████| 133M/133M [00:08<00:00, 16.2MB/s] \n",
      "tokenizer_config.json: 100%|██████████| 366/366 [00:00<00:00, 678kB/s]\n",
      "vocab.txt: 100%|██████████| 232k/232k [00:00<00:00, 9.89MB/s]\n",
      "tokenizer.json: 100%|██████████| 711k/711k [00:00<00:00, 16.4MB/s]\n",
      "special_tokens_map.json: 100%|██████████| 125/125 [00:00<00:00, 1.03MB/s]\n"
     ]
    },
    {
     "data": {
      "text/plain": [
       "<llama_index.indices.vector_store.base.VectorStoreIndex at 0x1728c8d10>"
      ]
     },
     "execution_count": 12,
     "metadata": {},
     "output_type": "execute_result"
    }
   ],
   "source": [
    "pickle.loads(a)"
   ]
  },
  {
   "cell_type": "code",
   "execution_count": 29,
   "metadata": {},
   "outputs": [
    {
     "ename": "ConnectionError",
     "evalue": "HTTPConnectionPool(host='http', port=80): Max retries exceeded with url: //127.0.0.1:5000/authenticate (Caused by NameResolutionError(\"<urllib3.connection.HTTPConnection object at 0x16aae3fd0>: Failed to resolve 'http' ([Errno 8] nodename nor servname provided, or not known)\"))",
     "output_type": "error",
     "traceback": [
      "\u001b[0;31m---------------------------------------------------------------------------\u001b[0m",
      "\u001b[0;31mgaierror\u001b[0m                                  Traceback (most recent call last)",
      "File \u001b[0;32m~/Github/AiFossStack/.venv/lib/python3.11/site-packages/urllib3/connection.py:203\u001b[0m, in \u001b[0;36mHTTPConnection._new_conn\u001b[0;34m(self)\u001b[0m\n\u001b[1;32m    202\u001b[0m \u001b[39mtry\u001b[39;00m:\n\u001b[0;32m--> 203\u001b[0m     sock \u001b[39m=\u001b[39m connection\u001b[39m.\u001b[39;49mcreate_connection(\n\u001b[1;32m    204\u001b[0m         (\u001b[39mself\u001b[39;49m\u001b[39m.\u001b[39;49m_dns_host, \u001b[39mself\u001b[39;49m\u001b[39m.\u001b[39;49mport),\n\u001b[1;32m    205\u001b[0m         \u001b[39mself\u001b[39;49m\u001b[39m.\u001b[39;49mtimeout,\n\u001b[1;32m    206\u001b[0m         source_address\u001b[39m=\u001b[39;49m\u001b[39mself\u001b[39;49m\u001b[39m.\u001b[39;49msource_address,\n\u001b[1;32m    207\u001b[0m         socket_options\u001b[39m=\u001b[39;49m\u001b[39mself\u001b[39;49m\u001b[39m.\u001b[39;49msocket_options,\n\u001b[1;32m    208\u001b[0m     )\n\u001b[1;32m    209\u001b[0m \u001b[39mexcept\u001b[39;00m socket\u001b[39m.\u001b[39mgaierror \u001b[39mas\u001b[39;00m e:\n",
      "File \u001b[0;32m~/Github/AiFossStack/.venv/lib/python3.11/site-packages/urllib3/util/connection.py:60\u001b[0m, in \u001b[0;36mcreate_connection\u001b[0;34m(address, timeout, source_address, socket_options)\u001b[0m\n\u001b[1;32m     58\u001b[0m     \u001b[39mraise\u001b[39;00m LocationParseError(\u001b[39mf\u001b[39m\u001b[39m\"\u001b[39m\u001b[39m'\u001b[39m\u001b[39m{\u001b[39;00mhost\u001b[39m}\u001b[39;00m\u001b[39m'\u001b[39m\u001b[39m, label empty or too long\u001b[39m\u001b[39m\"\u001b[39m) \u001b[39mfrom\u001b[39;00m \u001b[39mNone\u001b[39;00m\n\u001b[0;32m---> 60\u001b[0m \u001b[39mfor\u001b[39;00m res \u001b[39min\u001b[39;00m socket\u001b[39m.\u001b[39;49mgetaddrinfo(host, port, family, socket\u001b[39m.\u001b[39;49mSOCK_STREAM):\n\u001b[1;32m     61\u001b[0m     af, socktype, proto, canonname, sa \u001b[39m=\u001b[39m res\n",
      "File \u001b[0;32m/opt/homebrew/Cellar/python@3.11/3.11.6_1/Frameworks/Python.framework/Versions/3.11/lib/python3.11/socket.py:962\u001b[0m, in \u001b[0;36mgetaddrinfo\u001b[0;34m(host, port, family, type, proto, flags)\u001b[0m\n\u001b[1;32m    961\u001b[0m addrlist \u001b[39m=\u001b[39m []\n\u001b[0;32m--> 962\u001b[0m \u001b[39mfor\u001b[39;00m res \u001b[39min\u001b[39;00m _socket\u001b[39m.\u001b[39;49mgetaddrinfo(host, port, family, \u001b[39mtype\u001b[39;49m, proto, flags):\n\u001b[1;32m    963\u001b[0m     af, socktype, proto, canonname, sa \u001b[39m=\u001b[39m res\n",
      "\u001b[0;31mgaierror\u001b[0m: [Errno 8] nodename nor servname provided, or not known",
      "\nThe above exception was the direct cause of the following exception:\n",
      "\u001b[0;31mNameResolutionError\u001b[0m                       Traceback (most recent call last)",
      "File \u001b[0;32m~/Github/AiFossStack/.venv/lib/python3.11/site-packages/urllib3/connectionpool.py:790\u001b[0m, in \u001b[0;36mHTTPConnectionPool.urlopen\u001b[0;34m(self, method, url, body, headers, retries, redirect, assert_same_host, timeout, pool_timeout, release_conn, chunked, body_pos, preload_content, decode_content, **response_kw)\u001b[0m\n\u001b[1;32m    789\u001b[0m \u001b[39m# Make the request on the HTTPConnection object\u001b[39;00m\n\u001b[0;32m--> 790\u001b[0m response \u001b[39m=\u001b[39m \u001b[39mself\u001b[39;49m\u001b[39m.\u001b[39;49m_make_request(\n\u001b[1;32m    791\u001b[0m     conn,\n\u001b[1;32m    792\u001b[0m     method,\n\u001b[1;32m    793\u001b[0m     url,\n\u001b[1;32m    794\u001b[0m     timeout\u001b[39m=\u001b[39;49mtimeout_obj,\n\u001b[1;32m    795\u001b[0m     body\u001b[39m=\u001b[39;49mbody,\n\u001b[1;32m    796\u001b[0m     headers\u001b[39m=\u001b[39;49mheaders,\n\u001b[1;32m    797\u001b[0m     chunked\u001b[39m=\u001b[39;49mchunked,\n\u001b[1;32m    798\u001b[0m     retries\u001b[39m=\u001b[39;49mretries,\n\u001b[1;32m    799\u001b[0m     response_conn\u001b[39m=\u001b[39;49mresponse_conn,\n\u001b[1;32m    800\u001b[0m     preload_content\u001b[39m=\u001b[39;49mpreload_content,\n\u001b[1;32m    801\u001b[0m     decode_content\u001b[39m=\u001b[39;49mdecode_content,\n\u001b[1;32m    802\u001b[0m     \u001b[39m*\u001b[39;49m\u001b[39m*\u001b[39;49mresponse_kw,\n\u001b[1;32m    803\u001b[0m )\n\u001b[1;32m    805\u001b[0m \u001b[39m# Everything went great!\u001b[39;00m\n",
      "File \u001b[0;32m~/Github/AiFossStack/.venv/lib/python3.11/site-packages/urllib3/connectionpool.py:496\u001b[0m, in \u001b[0;36mHTTPConnectionPool._make_request\u001b[0;34m(self, conn, method, url, body, headers, retries, timeout, chunked, response_conn, preload_content, decode_content, enforce_content_length)\u001b[0m\n\u001b[1;32m    495\u001b[0m \u001b[39mtry\u001b[39;00m:\n\u001b[0;32m--> 496\u001b[0m     conn\u001b[39m.\u001b[39;49mrequest(\n\u001b[1;32m    497\u001b[0m         method,\n\u001b[1;32m    498\u001b[0m         url,\n\u001b[1;32m    499\u001b[0m         body\u001b[39m=\u001b[39;49mbody,\n\u001b[1;32m    500\u001b[0m         headers\u001b[39m=\u001b[39;49mheaders,\n\u001b[1;32m    501\u001b[0m         chunked\u001b[39m=\u001b[39;49mchunked,\n\u001b[1;32m    502\u001b[0m         preload_content\u001b[39m=\u001b[39;49mpreload_content,\n\u001b[1;32m    503\u001b[0m         decode_content\u001b[39m=\u001b[39;49mdecode_content,\n\u001b[1;32m    504\u001b[0m         enforce_content_length\u001b[39m=\u001b[39;49menforce_content_length,\n\u001b[1;32m    505\u001b[0m     )\n\u001b[1;32m    507\u001b[0m \u001b[39m# We are swallowing BrokenPipeError (errno.EPIPE) since the server is\u001b[39;00m\n\u001b[1;32m    508\u001b[0m \u001b[39m# legitimately able to close the connection after sending a valid response.\u001b[39;00m\n\u001b[1;32m    509\u001b[0m \u001b[39m# With this behaviour, the received response is still readable.\u001b[39;00m\n",
      "File \u001b[0;32m~/Github/AiFossStack/.venv/lib/python3.11/site-packages/urllib3/connection.py:395\u001b[0m, in \u001b[0;36mHTTPConnection.request\u001b[0;34m(self, method, url, body, headers, chunked, preload_content, decode_content, enforce_content_length)\u001b[0m\n\u001b[1;32m    394\u001b[0m     \u001b[39mself\u001b[39m\u001b[39m.\u001b[39mputheader(header, value)\n\u001b[0;32m--> 395\u001b[0m \u001b[39mself\u001b[39;49m\u001b[39m.\u001b[39;49mendheaders()\n\u001b[1;32m    397\u001b[0m \u001b[39m# If we're given a body we start sending that in chunks.\u001b[39;00m\n",
      "File \u001b[0;32m/opt/homebrew/Cellar/python@3.11/3.11.6_1/Frameworks/Python.framework/Versions/3.11/lib/python3.11/http/client.py:1281\u001b[0m, in \u001b[0;36mHTTPConnection.endheaders\u001b[0;34m(self, message_body, encode_chunked)\u001b[0m\n\u001b[1;32m   1280\u001b[0m     \u001b[39mraise\u001b[39;00m CannotSendHeader()\n\u001b[0;32m-> 1281\u001b[0m \u001b[39mself\u001b[39;49m\u001b[39m.\u001b[39;49m_send_output(message_body, encode_chunked\u001b[39m=\u001b[39;49mencode_chunked)\n",
      "File \u001b[0;32m/opt/homebrew/Cellar/python@3.11/3.11.6_1/Frameworks/Python.framework/Versions/3.11/lib/python3.11/http/client.py:1041\u001b[0m, in \u001b[0;36mHTTPConnection._send_output\u001b[0;34m(self, message_body, encode_chunked)\u001b[0m\n\u001b[1;32m   1040\u001b[0m \u001b[39mdel\u001b[39;00m \u001b[39mself\u001b[39m\u001b[39m.\u001b[39m_buffer[:]\n\u001b[0;32m-> 1041\u001b[0m \u001b[39mself\u001b[39;49m\u001b[39m.\u001b[39;49msend(msg)\n\u001b[1;32m   1043\u001b[0m \u001b[39mif\u001b[39;00m message_body \u001b[39mis\u001b[39;00m \u001b[39mnot\u001b[39;00m \u001b[39mNone\u001b[39;00m:\n\u001b[1;32m   1044\u001b[0m \n\u001b[1;32m   1045\u001b[0m     \u001b[39m# create a consistent interface to message_body\u001b[39;00m\n",
      "File \u001b[0;32m/opt/homebrew/Cellar/python@3.11/3.11.6_1/Frameworks/Python.framework/Versions/3.11/lib/python3.11/http/client.py:979\u001b[0m, in \u001b[0;36mHTTPConnection.send\u001b[0;34m(self, data)\u001b[0m\n\u001b[1;32m    978\u001b[0m \u001b[39mif\u001b[39;00m \u001b[39mself\u001b[39m\u001b[39m.\u001b[39mauto_open:\n\u001b[0;32m--> 979\u001b[0m     \u001b[39mself\u001b[39;49m\u001b[39m.\u001b[39;49mconnect()\n\u001b[1;32m    980\u001b[0m \u001b[39melse\u001b[39;00m:\n",
      "File \u001b[0;32m~/Github/AiFossStack/.venv/lib/python3.11/site-packages/urllib3/connection.py:243\u001b[0m, in \u001b[0;36mHTTPConnection.connect\u001b[0;34m(self)\u001b[0m\n\u001b[1;32m    242\u001b[0m \u001b[39mdef\u001b[39;00m \u001b[39mconnect\u001b[39m(\u001b[39mself\u001b[39m) \u001b[39m-\u001b[39m\u001b[39m>\u001b[39m \u001b[39mNone\u001b[39;00m:\n\u001b[0;32m--> 243\u001b[0m     \u001b[39mself\u001b[39m\u001b[39m.\u001b[39msock \u001b[39m=\u001b[39m \u001b[39mself\u001b[39;49m\u001b[39m.\u001b[39;49m_new_conn()\n\u001b[1;32m    244\u001b[0m     \u001b[39mif\u001b[39;00m \u001b[39mself\u001b[39m\u001b[39m.\u001b[39m_tunnel_host:\n\u001b[1;32m    245\u001b[0m         \u001b[39m# If we're tunneling it means we're connected to our proxy.\u001b[39;00m\n",
      "File \u001b[0;32m~/Github/AiFossStack/.venv/lib/python3.11/site-packages/urllib3/connection.py:210\u001b[0m, in \u001b[0;36mHTTPConnection._new_conn\u001b[0;34m(self)\u001b[0m\n\u001b[1;32m    209\u001b[0m \u001b[39mexcept\u001b[39;00m socket\u001b[39m.\u001b[39mgaierror \u001b[39mas\u001b[39;00m e:\n\u001b[0;32m--> 210\u001b[0m     \u001b[39mraise\u001b[39;00m NameResolutionError(\u001b[39mself\u001b[39m\u001b[39m.\u001b[39mhost, \u001b[39mself\u001b[39m, e) \u001b[39mfrom\u001b[39;00m \u001b[39me\u001b[39;00m\n\u001b[1;32m    211\u001b[0m \u001b[39mexcept\u001b[39;00m SocketTimeout \u001b[39mas\u001b[39;00m e:\n",
      "\u001b[0;31mNameResolutionError\u001b[0m: <urllib3.connection.HTTPConnection object at 0x16aae3fd0>: Failed to resolve 'http' ([Errno 8] nodename nor servname provided, or not known)",
      "\nThe above exception was the direct cause of the following exception:\n",
      "\u001b[0;31mMaxRetryError\u001b[0m                             Traceback (most recent call last)",
      "File \u001b[0;32m~/Github/AiFossStack/.venv/lib/python3.11/site-packages/requests/adapters.py:486\u001b[0m, in \u001b[0;36mHTTPAdapter.send\u001b[0;34m(self, request, stream, timeout, verify, cert, proxies)\u001b[0m\n\u001b[1;32m    485\u001b[0m \u001b[39mtry\u001b[39;00m:\n\u001b[0;32m--> 486\u001b[0m     resp \u001b[39m=\u001b[39m conn\u001b[39m.\u001b[39;49murlopen(\n\u001b[1;32m    487\u001b[0m         method\u001b[39m=\u001b[39;49mrequest\u001b[39m.\u001b[39;49mmethod,\n\u001b[1;32m    488\u001b[0m         url\u001b[39m=\u001b[39;49murl,\n\u001b[1;32m    489\u001b[0m         body\u001b[39m=\u001b[39;49mrequest\u001b[39m.\u001b[39;49mbody,\n\u001b[1;32m    490\u001b[0m         headers\u001b[39m=\u001b[39;49mrequest\u001b[39m.\u001b[39;49mheaders,\n\u001b[1;32m    491\u001b[0m         redirect\u001b[39m=\u001b[39;49m\u001b[39mFalse\u001b[39;49;00m,\n\u001b[1;32m    492\u001b[0m         assert_same_host\u001b[39m=\u001b[39;49m\u001b[39mFalse\u001b[39;49;00m,\n\u001b[1;32m    493\u001b[0m         preload_content\u001b[39m=\u001b[39;49m\u001b[39mFalse\u001b[39;49;00m,\n\u001b[1;32m    494\u001b[0m         decode_content\u001b[39m=\u001b[39;49m\u001b[39mFalse\u001b[39;49;00m,\n\u001b[1;32m    495\u001b[0m         retries\u001b[39m=\u001b[39;49m\u001b[39mself\u001b[39;49m\u001b[39m.\u001b[39;49mmax_retries,\n\u001b[1;32m    496\u001b[0m         timeout\u001b[39m=\u001b[39;49mtimeout,\n\u001b[1;32m    497\u001b[0m         chunked\u001b[39m=\u001b[39;49mchunked,\n\u001b[1;32m    498\u001b[0m     )\n\u001b[1;32m    500\u001b[0m \u001b[39mexcept\u001b[39;00m (ProtocolError, \u001b[39mOSError\u001b[39;00m) \u001b[39mas\u001b[39;00m err:\n",
      "File \u001b[0;32m~/Github/AiFossStack/.venv/lib/python3.11/site-packages/urllib3/connectionpool.py:844\u001b[0m, in \u001b[0;36mHTTPConnectionPool.urlopen\u001b[0;34m(self, method, url, body, headers, retries, redirect, assert_same_host, timeout, pool_timeout, release_conn, chunked, body_pos, preload_content, decode_content, **response_kw)\u001b[0m\n\u001b[1;32m    842\u001b[0m     new_e \u001b[39m=\u001b[39m ProtocolError(\u001b[39m\"\u001b[39m\u001b[39mConnection aborted.\u001b[39m\u001b[39m\"\u001b[39m, new_e)\n\u001b[0;32m--> 844\u001b[0m retries \u001b[39m=\u001b[39m retries\u001b[39m.\u001b[39;49mincrement(\n\u001b[1;32m    845\u001b[0m     method, url, error\u001b[39m=\u001b[39;49mnew_e, _pool\u001b[39m=\u001b[39;49m\u001b[39mself\u001b[39;49m, _stacktrace\u001b[39m=\u001b[39;49msys\u001b[39m.\u001b[39;49mexc_info()[\u001b[39m2\u001b[39;49m]\n\u001b[1;32m    846\u001b[0m )\n\u001b[1;32m    847\u001b[0m retries\u001b[39m.\u001b[39msleep()\n",
      "File \u001b[0;32m~/Github/AiFossStack/.venv/lib/python3.11/site-packages/urllib3/util/retry.py:515\u001b[0m, in \u001b[0;36mRetry.increment\u001b[0;34m(self, method, url, response, error, _pool, _stacktrace)\u001b[0m\n\u001b[1;32m    514\u001b[0m     reason \u001b[39m=\u001b[39m error \u001b[39mor\u001b[39;00m ResponseError(cause)\n\u001b[0;32m--> 515\u001b[0m     \u001b[39mraise\u001b[39;00m MaxRetryError(_pool, url, reason) \u001b[39mfrom\u001b[39;00m \u001b[39mreason\u001b[39;00m  \u001b[39m# type: ignore[arg-type]\u001b[39;00m\n\u001b[1;32m    517\u001b[0m log\u001b[39m.\u001b[39mdebug(\u001b[39m\"\u001b[39m\u001b[39mIncremented Retry for (url=\u001b[39m\u001b[39m'\u001b[39m\u001b[39m%s\u001b[39;00m\u001b[39m'\u001b[39m\u001b[39m): \u001b[39m\u001b[39m%r\u001b[39;00m\u001b[39m\"\u001b[39m, url, new_retry)\n",
      "\u001b[0;31mMaxRetryError\u001b[0m: HTTPConnectionPool(host='http', port=80): Max retries exceeded with url: //127.0.0.1:5000/authenticate (Caused by NameResolutionError(\"<urllib3.connection.HTTPConnection object at 0x16aae3fd0>: Failed to resolve 'http' ([Errno 8] nodename nor servname provided, or not known)\"))",
      "\nDuring handling of the above exception, another exception occurred:\n",
      "\u001b[0;31mConnectionError\u001b[0m                           Traceback (most recent call last)",
      "\u001b[1;32m/Users/gabrielgtrigo/Github/AiFossStack/explore.ipynb Cell 5\u001b[0m line \u001b[0;36m1\n\u001b[1;32m      <a href='vscode-notebook-cell:/Users/gabrielgtrigo/Github/AiFossStack/explore.ipynb#X10sZmlsZQ%3D%3D?line=4'>5</a>\u001b[0m \u001b[39m# Replace with the actual data you want to send\u001b[39;00m\n\u001b[1;32m      <a href='vscode-notebook-cell:/Users/gabrielgtrigo/Github/AiFossStack/explore.ipynb#X10sZmlsZQ%3D%3D?line=5'>6</a>\u001b[0m data \u001b[39m=\u001b[39m {\n\u001b[1;32m      <a href='vscode-notebook-cell:/Users/gabrielgtrigo/Github/AiFossStack/explore.ipynb#X10sZmlsZQ%3D%3D?line=6'>7</a>\u001b[0m     \u001b[39m'\u001b[39m\u001b[39memail\u001b[39m\u001b[39m'\u001b[39m: \u001b[39m'\u001b[39m\u001b[39mgabrielguerratrigo20@gmail.com\u001b[39m\u001b[39m'\u001b[39m,\n\u001b[1;32m      <a href='vscode-notebook-cell:/Users/gabrielgtrigo/Github/AiFossStack/explore.ipynb#X10sZmlsZQ%3D%3D?line=7'>8</a>\u001b[0m     \u001b[39m'\u001b[39m\u001b[39mpassword\u001b[39m\u001b[39m'\u001b[39m: \u001b[39m'\u001b[39m\u001b[39m123\u001b[39m\u001b[39m'\u001b[39m,\n\u001b[1;32m      <a href='vscode-notebook-cell:/Users/gabrielgtrigo/Github/AiFossStack/explore.ipynb#X10sZmlsZQ%3D%3D?line=8'>9</a>\u001b[0m     \u001b[39m'\u001b[39m\u001b[39mmodel_name\u001b[39m\u001b[39m'\u001b[39m: \u001b[39m'\u001b[39m\u001b[39mSecond Model\u001b[39m\u001b[39m'\u001b[39m,\n\u001b[1;32m     <a href='vscode-notebook-cell:/Users/gabrielgtrigo/Github/AiFossStack/explore.ipynb#X10sZmlsZQ%3D%3D?line=9'>10</a>\u001b[0m     \u001b[39m'\u001b[39m\u001b[39mmodel_str\u001b[39m\u001b[39m'\u001b[39m: a,\n\u001b[1;32m     <a href='vscode-notebook-cell:/Users/gabrielgtrigo/Github/AiFossStack/explore.ipynb#X10sZmlsZQ%3D%3D?line=10'>11</a>\u001b[0m }\n\u001b[0;32m---> <a href='vscode-notebook-cell:/Users/gabrielgtrigo/Github/AiFossStack/explore.ipynb#X10sZmlsZQ%3D%3D?line=12'>13</a>\u001b[0m response \u001b[39m=\u001b[39m requests\u001b[39m.\u001b[39;49mpost(url, data\u001b[39m=\u001b[39;49mdata)\n",
      "File \u001b[0;32m~/Github/AiFossStack/.venv/lib/python3.11/site-packages/requests/api.py:115\u001b[0m, in \u001b[0;36mpost\u001b[0;34m(url, data, json, **kwargs)\u001b[0m\n\u001b[1;32m    103\u001b[0m \u001b[39mdef\u001b[39;00m \u001b[39mpost\u001b[39m(url, data\u001b[39m=\u001b[39m\u001b[39mNone\u001b[39;00m, json\u001b[39m=\u001b[39m\u001b[39mNone\u001b[39;00m, \u001b[39m*\u001b[39m\u001b[39m*\u001b[39mkwargs):\n\u001b[1;32m    104\u001b[0m \u001b[39m    \u001b[39m\u001b[39mr\u001b[39m\u001b[39m\"\"\"Sends a POST request.\u001b[39;00m\n\u001b[1;32m    105\u001b[0m \n\u001b[1;32m    106\u001b[0m \u001b[39m    :param url: URL for the new :class:`Request` object.\u001b[39;00m\n\u001b[0;32m   (...)\u001b[0m\n\u001b[1;32m    112\u001b[0m \u001b[39m    :rtype: requests.Response\u001b[39;00m\n\u001b[1;32m    113\u001b[0m \u001b[39m    \"\"\"\u001b[39;00m\n\u001b[0;32m--> 115\u001b[0m     \u001b[39mreturn\u001b[39;00m request(\u001b[39m\"\u001b[39;49m\u001b[39mpost\u001b[39;49m\u001b[39m\"\u001b[39;49m, url, data\u001b[39m=\u001b[39;49mdata, json\u001b[39m=\u001b[39;49mjson, \u001b[39m*\u001b[39;49m\u001b[39m*\u001b[39;49mkwargs)\n",
      "File \u001b[0;32m~/Github/AiFossStack/.venv/lib/python3.11/site-packages/requests/api.py:59\u001b[0m, in \u001b[0;36mrequest\u001b[0;34m(method, url, **kwargs)\u001b[0m\n\u001b[1;32m     55\u001b[0m \u001b[39m# By using the 'with' statement we are sure the session is closed, thus we\u001b[39;00m\n\u001b[1;32m     56\u001b[0m \u001b[39m# avoid leaving sockets open which can trigger a ResourceWarning in some\u001b[39;00m\n\u001b[1;32m     57\u001b[0m \u001b[39m# cases, and look like a memory leak in others.\u001b[39;00m\n\u001b[1;32m     58\u001b[0m \u001b[39mwith\u001b[39;00m sessions\u001b[39m.\u001b[39mSession() \u001b[39mas\u001b[39;00m session:\n\u001b[0;32m---> 59\u001b[0m     \u001b[39mreturn\u001b[39;00m session\u001b[39m.\u001b[39;49mrequest(method\u001b[39m=\u001b[39;49mmethod, url\u001b[39m=\u001b[39;49murl, \u001b[39m*\u001b[39;49m\u001b[39m*\u001b[39;49mkwargs)\n",
      "File \u001b[0;32m~/Github/AiFossStack/.venv/lib/python3.11/site-packages/requests/sessions.py:589\u001b[0m, in \u001b[0;36mSession.request\u001b[0;34m(self, method, url, params, data, headers, cookies, files, auth, timeout, allow_redirects, proxies, hooks, stream, verify, cert, json)\u001b[0m\n\u001b[1;32m    584\u001b[0m send_kwargs \u001b[39m=\u001b[39m {\n\u001b[1;32m    585\u001b[0m     \u001b[39m\"\u001b[39m\u001b[39mtimeout\u001b[39m\u001b[39m\"\u001b[39m: timeout,\n\u001b[1;32m    586\u001b[0m     \u001b[39m\"\u001b[39m\u001b[39mallow_redirects\u001b[39m\u001b[39m\"\u001b[39m: allow_redirects,\n\u001b[1;32m    587\u001b[0m }\n\u001b[1;32m    588\u001b[0m send_kwargs\u001b[39m.\u001b[39mupdate(settings)\n\u001b[0;32m--> 589\u001b[0m resp \u001b[39m=\u001b[39m \u001b[39mself\u001b[39;49m\u001b[39m.\u001b[39;49msend(prep, \u001b[39m*\u001b[39;49m\u001b[39m*\u001b[39;49msend_kwargs)\n\u001b[1;32m    591\u001b[0m \u001b[39mreturn\u001b[39;00m resp\n",
      "File \u001b[0;32m~/Github/AiFossStack/.venv/lib/python3.11/site-packages/requests/sessions.py:703\u001b[0m, in \u001b[0;36mSession.send\u001b[0;34m(self, request, **kwargs)\u001b[0m\n\u001b[1;32m    700\u001b[0m start \u001b[39m=\u001b[39m preferred_clock()\n\u001b[1;32m    702\u001b[0m \u001b[39m# Send the request\u001b[39;00m\n\u001b[0;32m--> 703\u001b[0m r \u001b[39m=\u001b[39m adapter\u001b[39m.\u001b[39;49msend(request, \u001b[39m*\u001b[39;49m\u001b[39m*\u001b[39;49mkwargs)\n\u001b[1;32m    705\u001b[0m \u001b[39m# Total elapsed time of the request (approximately)\u001b[39;00m\n\u001b[1;32m    706\u001b[0m elapsed \u001b[39m=\u001b[39m preferred_clock() \u001b[39m-\u001b[39m start\n",
      "File \u001b[0;32m~/Github/AiFossStack/.venv/lib/python3.11/site-packages/requests/adapters.py:519\u001b[0m, in \u001b[0;36mHTTPAdapter.send\u001b[0;34m(self, request, stream, timeout, verify, cert, proxies)\u001b[0m\n\u001b[1;32m    515\u001b[0m     \u001b[39mif\u001b[39;00m \u001b[39misinstance\u001b[39m(e\u001b[39m.\u001b[39mreason, _SSLError):\n\u001b[1;32m    516\u001b[0m         \u001b[39m# This branch is for urllib3 v1.22 and later.\u001b[39;00m\n\u001b[1;32m    517\u001b[0m         \u001b[39mraise\u001b[39;00m SSLError(e, request\u001b[39m=\u001b[39mrequest)\n\u001b[0;32m--> 519\u001b[0m     \u001b[39mraise\u001b[39;00m \u001b[39mConnectionError\u001b[39;00m(e, request\u001b[39m=\u001b[39mrequest)\n\u001b[1;32m    521\u001b[0m \u001b[39mexcept\u001b[39;00m ClosedPoolError \u001b[39mas\u001b[39;00m e:\n\u001b[1;32m    522\u001b[0m     \u001b[39mraise\u001b[39;00m \u001b[39mConnectionError\u001b[39;00m(e, request\u001b[39m=\u001b[39mrequest)\n",
      "\u001b[0;31mConnectionError\u001b[0m: HTTPConnectionPool(host='http', port=80): Max retries exceeded with url: //127.0.0.1:5000/authenticate (Caused by NameResolutionError(\"<urllib3.connection.HTTPConnection object at 0x16aae3fd0>: Failed to resolve 'http' ([Errno 8] nodename nor servname provided, or not known)\"))"
     ]
    }
   ],
   "source": [
    "import requests\n",
    "\n",
    "url = 'http://http://127.0.0.1:5000/authenticate'  # Replace with the actual URL of your Flask app\n",
    "\n",
    "# Replace with the actual data you want to send\n",
    "data = {\n",
    "    'email': 'gabrielguerratrigo20@gmail.com',\n",
    "    'password': '123',\n",
    "    'model_name': 'Second Model',\n",
    "    'model_str': a,\n",
    "}\n",
    "\n",
    "response = requests.post(url, data=data)\n"
   ]
  },
  {
   "cell_type": "code",
   "execution_count": 8,
   "metadata": {},
   "outputs": [
    {
     "data": {
      "text/plain": [
       "{'result': 'success'}"
      ]
     },
     "execution_count": 8,
     "metadata": {},
     "output_type": "execute_result"
    }
   ],
   "source": [
    "import json\n",
    "json.loads(response.content.decode('utf-8'))"
   ]
  },
  {
   "cell_type": "code",
   "execution_count": 22,
   "metadata": {},
   "outputs": [],
   "source": [
    "b = pickle.loads(a)"
   ]
  },
  {
   "cell_type": "code",
   "execution_count": 32,
   "metadata": {},
   "outputs": [
    {
     "ename": "AttributeError",
     "evalue": "'LLMPredictor' object has no attribute '_llm'",
     "output_type": "error",
     "traceback": [
      "\u001b[0;31m---------------------------------------------------------------------------\u001b[0m",
      "\u001b[0;31mAttributeError\u001b[0m                            Traceback (most recent call last)",
      "\u001b[1;32m/Users/gabrielgtrigo/Github/AiFossStack/explore.ipynb Cell 8\u001b[0m line \u001b[0;36m1\n\u001b[0;32m----> <a href='vscode-notebook-cell:/Users/gabrielgtrigo/Github/AiFossStack/explore.ipynb#X15sZmlsZQ%3D%3D?line=0'>1</a>\u001b[0m b\u001b[39m.\u001b[39;49mas_chat_engine(chat_mode\u001b[39m=\u001b[39;49m\u001b[39m\"\u001b[39;49m\u001b[39mcontext\u001b[39;49m\u001b[39m\"\u001b[39;49m, verbose\u001b[39m=\u001b[39;49m\u001b[39mTrue\u001b[39;49;00m)\n",
      "File \u001b[0;32m~/Github/AiFossStack/.venv/lib/python3.11/site-packages/llama_index/indices/base.py:382\u001b[0m, in \u001b[0;36mBaseIndex.as_chat_engine\u001b[0;34m(self, chat_mode, **kwargs)\u001b[0m\n\u001b[1;32m    379\u001b[0m \u001b[39melif\u001b[39;00m chat_mode \u001b[39m==\u001b[39m ChatMode\u001b[39m.\u001b[39mCONTEXT:\n\u001b[1;32m    380\u001b[0m     \u001b[39mfrom\u001b[39;00m \u001b[39mllama_index\u001b[39;00m\u001b[39m.\u001b[39;00m\u001b[39mchat_engine\u001b[39;00m \u001b[39mimport\u001b[39;00m ContextChatEngine\n\u001b[0;32m--> 382\u001b[0m     \u001b[39mreturn\u001b[39;00m ContextChatEngine\u001b[39m.\u001b[39;49mfrom_defaults(\n\u001b[1;32m    383\u001b[0m         retriever\u001b[39m=\u001b[39;49m\u001b[39mself\u001b[39;49m\u001b[39m.\u001b[39;49mas_retriever(\u001b[39m*\u001b[39;49m\u001b[39m*\u001b[39;49mkwargs),\n\u001b[1;32m    384\u001b[0m         \u001b[39m*\u001b[39;49m\u001b[39m*\u001b[39;49mkwargs,\n\u001b[1;32m    385\u001b[0m     )\n\u001b[1;32m    387\u001b[0m \u001b[39melif\u001b[39;00m chat_mode \u001b[39m==\u001b[39m ChatMode\u001b[39m.\u001b[39mCONDENSE_PLUS_CONTEXT:\n\u001b[1;32m    388\u001b[0m     \u001b[39mfrom\u001b[39;00m \u001b[39mllama_index\u001b[39;00m\u001b[39m.\u001b[39;00m\u001b[39mchat_engine\u001b[39;00m \u001b[39mimport\u001b[39;00m CondensePlusContextChatEngine\n",
      "File \u001b[0;32m~/Github/AiFossStack/.venv/lib/python3.11/site-packages/llama_index/chat_engine/context.py:73\u001b[0m, in \u001b[0;36mContextChatEngine.from_defaults\u001b[0;34m(cls, retriever, service_context, chat_history, memory, system_prompt, prefix_messages, node_postprocessors, context_template, **kwargs)\u001b[0m\n\u001b[1;32m     71\u001b[0m \u001b[39mif\u001b[39;00m \u001b[39mnot\u001b[39;00m \u001b[39misinstance\u001b[39m(service_context\u001b[39m.\u001b[39mllm_predictor, LLMPredictor):\n\u001b[1;32m     72\u001b[0m     \u001b[39mraise\u001b[39;00m \u001b[39mValueError\u001b[39;00m(\u001b[39m\"\u001b[39m\u001b[39mllm_predictor must be a LLMPredictor instance\u001b[39m\u001b[39m\"\u001b[39m)\n\u001b[0;32m---> 73\u001b[0m llm \u001b[39m=\u001b[39m service_context\u001b[39m.\u001b[39;49mllm_predictor\u001b[39m.\u001b[39;49mllm\n\u001b[1;32m     75\u001b[0m chat_history \u001b[39m=\u001b[39m chat_history \u001b[39mor\u001b[39;00m []\n\u001b[1;32m     76\u001b[0m memory \u001b[39m=\u001b[39m memory \u001b[39mor\u001b[39;00m ChatMemoryBuffer\u001b[39m.\u001b[39mfrom_defaults(\n\u001b[1;32m     77\u001b[0m     chat_history\u001b[39m=\u001b[39mchat_history, token_limit\u001b[39m=\u001b[39mllm\u001b[39m.\u001b[39mmetadata\u001b[39m.\u001b[39mcontext_window \u001b[39m-\u001b[39m \u001b[39m256\u001b[39m\n\u001b[1;32m     78\u001b[0m )\n",
      "File \u001b[0;32m~/Github/AiFossStack/.venv/lib/python3.11/site-packages/llama_index/llm_predictor/base.py:138\u001b[0m, in \u001b[0;36mLLMPredictor.llm\u001b[0;34m(self)\u001b[0m\n\u001b[1;32m    135\u001b[0m \u001b[39m@property\u001b[39m\n\u001b[1;32m    136\u001b[0m \u001b[39mdef\u001b[39;00m \u001b[39mllm\u001b[39m(\u001b[39mself\u001b[39m) \u001b[39m-\u001b[39m\u001b[39m>\u001b[39m LLM:\n\u001b[1;32m    137\u001b[0m \u001b[39m    \u001b[39m\u001b[39m\"\"\"Get LLM.\"\"\"\u001b[39;00m\n\u001b[0;32m--> 138\u001b[0m     \u001b[39mreturn\u001b[39;00m \u001b[39mself\u001b[39;49m\u001b[39m.\u001b[39;49m_llm\n",
      "\u001b[0;31mAttributeError\u001b[0m: 'LLMPredictor' object has no attribute '_llm'"
     ]
    }
   ],
   "source": [
    "b.as_chat_engine(chat_mode=\"context\", verbose=True)"
   ]
  },
  {
   "cell_type": "code",
   "execution_count": 27,
   "metadata": {},
   "outputs": [
    {
     "data": {
      "text/plain": [
       "<llama_index.chat_engine.context.ContextChatEngine at 0x17b1aafd0>"
      ]
     },
     "execution_count": 27,
     "metadata": {},
     "output_type": "execute_result"
    }
   ],
   "source": [
    "index.as_chat_engine(chat_mode=\"context\", verbose=True)"
   ]
  },
  {
   "cell_type": "code",
   "execution_count": 40,
   "metadata": {},
   "outputs": [],
   "source": [
    "chat = b.as_chat_engine(service_context=service_context, chat_mode=\"context\", verbose=True)"
   ]
  },
  {
   "cell_type": "code",
   "execution_count": 41,
   "metadata": {},
   "outputs": [
    {
     "data": {
      "text/plain": [
       "AgentChatResponse(response=\"My name is not relevant in this context as I am just a text-based assistant and do not have a physical presence. However, if you're asking about the organization or author behind these texts, it's the United Nations (UN) and specifically their Charter document that outlines the purposes and principles of the organization.\", sources=[ToolOutput(content='system: Context information is below.\\n--------------------\\npage_label: 116\\nfile_path: data/UN_charter_all_lang.pdf\\n\\nVoMcoeame \\nCmarnósi  89 \\n1. KaatAHfi  \\'ijien  CoBeTa  no OneKe  HMeeT  OAHH \\nrojioc. \\n2. Peniemia  CoBeTa  no OneKe  npramiaioTca \\nÒOJIBHIHHCTBOM  rojiocoB  npneyTCTByionpx  n yqacT-\\nByionpx  B rojiocoBaHHH  uieHOB  CoBeTa. \\nIlpoìiedypa \\nCmambn  90 \\n1. CoBeT  no OneKe  iipninniaeT  CBOH  coócTBeH-\\nHBie  npaBHJia  nponeAyp&i,  BKJimaa  nopa^OK  H3-\\nópamia  CBofero IIpeAceAaTejia. \\n2. Bace^anna:  CoBeTa  no OneKe  co3HBaK>Tca  no \\nMepe  NAFTOÓHOCTH  B COOTBCTCTBHH  C ero npaBHJiaMH \\nnpoiie^ypBi,  K0T0p&ie  AOJMKHBI  npeAycMaipnBaTB \\nC03BIB  3ace,n,aHHH  no TpeóoBaHHio  óojitmHHCTBa \\niJieHOB  CoBeTa. \\nCmambn  91 \\nCoBex  no OneKe  nojn>3yeTca  B EOOTBETCTBY-\\nIOIHHX  cjiy^aax  noMomjbio  9K0H0MnqecK0r0  n Co-\\nnnajiBHoro  CoBeTa  H cneipajm3npoBaHHtix  yqpeac-\\nAeHHH  B OTHOraeHHH  BOnpOCOB,  B KOTOpBIX  OHH CO-\\nOTBeTCTBeHHO  3aHHTepeeoBam>i. \\nrjiABA  xiv \\nMm^yHAPojijìHH  cy# \\nCmambn  92 \\nMeaEflyHapoflHbra  CyA aBJiaeica  rjiaBHHM  cy^eó-\\nHBIM  OPRAHOM  0praHH3an,HH  OÓ\\'EAHHENHTIX  Hannft. \\nOH AeficTByeT  B COOTB6TCTBHH  C  npmiaraeMBM \\nCTaxyTOM,  K0T0pbiH  OGHOBaH  Ha CTaiyTe  IIocToaH-\\nHOH IlajiaTBi  MeatAyHapoAHoro  IIpaBocyAHa  H 06-\\npa3yeT Heoi\\'eMjieMyio  ^acTB nacToam;ero  YcTaBa. \\nCmambn  93 \\n1. Bce  ^Jierai  OpraHH3anroi  AB.iaioTca  ipso \\nfacto  yqacTHHKaMH  CTaTyra  MeatAyHapoAHoro \\nCyAa. \\n2. rocyAapciBO,  He aBJiaromeeca  ^jieHOM  Opra-\\nHH3aiiHH,  MoateT  CTSTB  yiacTHHKOM  OraTyTa  Meat-AyHapoAHoro  CyAa,  Ha ycjiOBHax,  K0T0pBie  onpe-\\nAejraioTca,  B KaacAOM  OTAejitHOM  cjiyiae,  TeHe-\\npajiLHofi  AccaMÓJieeH  no peKOMeHAaipH  CoBeia \\nBe30nacH0ciH. \\nCmambn  94 \\n1. KaatAwìì  ^jieH  OpraHH3anHH  o6a3yeica  BBI-\\nnojiHHTB  peraeHHe  MeatAynapoAHoro  CyAa  no TO-\\nMy AeJiy,  B KOTOPOM  OH aBjiaeTca  CToponoft. \\n2.\\n\\npage_label: 115\\nfile_path: data/UN_charter_all_lang.pdf\\n\\n2. CoBeT  no OneKe,  AeficTByioniiiH  noA pyKo-\\nBOACTBOM  renepajiBiioH  AccaMÓJien,  noMoraeT  Te-\\nHepaji&Hoñ  AceaMÔJiee  B BbinojiHemm  9THX  $ymc-\\nHHFL. \\nrJIABA  XIII \\nCOBET  no  OHEKE \\nGocmae \\nCmambsi  86 \\n1. CoBeT  no OneKe  COCTOHT  H3 cjieAyionpix \\nÍjieHOB  OpraHH3anHH  Oó\\'eAHHeHHBix  Hamiit: a) Tex  Ojíenos  0praHH3annH,  KOTopBie \\nynpaBJiaioT  TeppHTopnaMH  HOA  oneKofl; \\nb) Tex  LIjienoB  OpraHH3aipni,  noHMeHOBaH-\\nHBIX  B CTaTBe  23,  KoiopBie  He ynpaBJiaioT  Tep-\\npHTopuaMH  noA oneKon; \\nc) TaKoro  racjia  Apyrax  \"ÇjieHOB  0praHH3a-\\nI^HH,  H3ÔpaHHBix  TEHEPAJIBHOH  AccaMÔJieciï  Ha \\nTpexroAOTHbii  cpoK,  KaKoe  MoateT  OKa3aiBca \\nHeoóxoAHMBiM  AJIA  oóecneieHHa  Toro,  ITOÓBI  06-\\nmee HHCJIO  HJIEHOB  CoBeTa  no OneKe  pacnpeAe-\\njiajiocB  nopoBHy  MeatAy  ^LienaMii  0praHH3  aipin, \\nynpaBJiEionçmn  M He ynpaBJiaionpiMH  Teppmo-\\npnHMH  HOA  oneitofi. \\n2. KaatABii  ^JieH  CoBeTa  no OneKe  Ha3eawr \\nOAHO  ocoóo  KBajiH^HHHpoBaHHoe  jn-mo,  KOTopoe \\nÔyAOT  ero npeACTaBraejieM  B CoBeTe  no OneKe. \\n0yHK1iUU  U IloMiOMOHUR \\nGmambn  87 \\nTeHepa-iBHaa  AccaMÔJiea  H HaxoAanpñca  noA \\nee pyKOBOACTBOM  CoBeT  no OneKe,  npii  BBinojiHe-\\nHHH  CBOHx  $yHKo;Hñ,  yno  JiHOMa^iiBaiOTca  : \\na) PaecMaTpiiBaTB  ornera,  npeACTaBJiaeMbie \\nynpaBJiaromjei  BJiacT&io; \\nb) IIPHHHMATB  neximiiH  H paecsiaTpHBaTB \\nHX, KOHcyjiBTHpyacB  c yiipaBJunon^eil  BJiacTBio; \\nc) YcrpaHBaiB  nepnoAirieciaie  noccin,emia \\ncooTBeTCTByionpix  TeppHTopHH  noA  oneKoiî,  B \\neorjiacoBaHHBie  e ynpaBjraioni¡eíi  bjirctlio  cpo-\\nKH, H \\nd) IIpeAnpHHHMaTB  ynoManyTBie  H  Apyrae \\nAeñcTBHa  B cooTBeiCTBHH  c ycjiOBHaMH  corjia-\\nmeHHH  06 oneKe.\\n--------------------\\n', tool_name='retriever', raw_input={'message': 'Hello, what is your name??'}, raw_output=ChatMessage(role=<MessageRole.SYSTEM: 'system'>, content='Context information is below.\\n--------------------\\npage_label: 116\\nfile_path: data/UN_charter_all_lang.pdf\\n\\nVoMcoeame \\nCmarnósi  89 \\n1. KaatAHfi  \\'ijien  CoBeTa  no OneKe  HMeeT  OAHH \\nrojioc. \\n2. Peniemia  CoBeTa  no OneKe  npramiaioTca \\nÒOJIBHIHHCTBOM  rojiocoB  npneyTCTByionpx  n yqacT-\\nByionpx  B rojiocoBaHHH  uieHOB  CoBeTa. \\nIlpoìiedypa \\nCmambn  90 \\n1. CoBeT  no OneKe  iipninniaeT  CBOH  coócTBeH-\\nHBie  npaBHJia  nponeAyp&i,  BKJimaa  nopa^OK  H3-\\nópamia  CBofero IIpeAceAaTejia. \\n2. Bace^anna:  CoBeTa  no OneKe  co3HBaK>Tca  no \\nMepe  NAFTOÓHOCTH  B COOTBCTCTBHH  C ero npaBHJiaMH \\nnpoiie^ypBi,  K0T0p&ie  AOJMKHBI  npeAycMaipnBaTB \\nC03BIB  3ace,n,aHHH  no TpeóoBaHHio  óojitmHHCTBa \\niJieHOB  CoBeTa. \\nCmambn  91 \\nCoBex  no OneKe  nojn>3yeTca  B EOOTBETCTBY-\\nIOIHHX  cjiy^aax  noMomjbio  9K0H0MnqecK0r0  n Co-\\nnnajiBHoro  CoBeTa  H cneipajm3npoBaHHtix  yqpeac-\\nAeHHH  B OTHOraeHHH  BOnpOCOB,  B KOTOpBIX  OHH CO-\\nOTBeTCTBeHHO  3aHHTepeeoBam>i. \\nrjiABA  xiv \\nMm^yHAPojijìHH  cy# \\nCmambn  92 \\nMeaEflyHapoflHbra  CyA aBJiaeica  rjiaBHHM  cy^eó-\\nHBIM  OPRAHOM  0praHH3an,HH  OÓ\\'EAHHENHTIX  Hannft. \\nOH AeficTByeT  B COOTB6TCTBHH  C  npmiaraeMBM \\nCTaxyTOM,  K0T0pbiH  OGHOBaH  Ha CTaiyTe  IIocToaH-\\nHOH IlajiaTBi  MeatAyHapoAHoro  IIpaBocyAHa  H 06-\\npa3yeT Heoi\\'eMjieMyio  ^acTB nacToam;ero  YcTaBa. \\nCmambn  93 \\n1. Bce  ^Jierai  OpraHH3anroi  AB.iaioTca  ipso \\nfacto  yqacTHHKaMH  CTaTyra  MeatAyHapoAHoro \\nCyAa. \\n2. rocyAapciBO,  He aBJiaromeeca  ^jieHOM  Opra-\\nHH3aiiHH,  MoateT  CTSTB  yiacTHHKOM  OraTyTa  Meat-AyHapoAHoro  CyAa,  Ha ycjiOBHax,  K0T0pBie  onpe-\\nAejraioTca,  B KaacAOM  OTAejitHOM  cjiyiae,  TeHe-\\npajiLHofi  AccaMÓJieeH  no peKOMeHAaipH  CoBeia \\nBe30nacH0ciH. \\nCmambn  94 \\n1. KaatAwìì  ^jieH  OpraHH3anHH  o6a3yeica  BBI-\\nnojiHHTB  peraeHHe  MeatAynapoAHoro  CyAa  no TO-\\nMy AeJiy,  B KOTOPOM  OH aBjiaeTca  CToponoft. \\n2.\\n\\npage_label: 115\\nfile_path: data/UN_charter_all_lang.pdf\\n\\n2. CoBeT  no OneKe,  AeficTByioniiiH  noA pyKo-\\nBOACTBOM  renepajiBiioH  AccaMÓJien,  noMoraeT  Te-\\nHepaji&Hoñ  AceaMÔJiee  B BbinojiHemm  9THX  $ymc-\\nHHFL. \\nrJIABA  XIII \\nCOBET  no  OHEKE \\nGocmae \\nCmambsi  86 \\n1. CoBeT  no OneKe  COCTOHT  H3 cjieAyionpix \\nÍjieHOB  OpraHH3anHH  Oó\\'eAHHeHHBix  Hamiit: a) Tex  Ojíenos  0praHH3annH,  KOTopBie \\nynpaBJiaioT  TeppHTopnaMH  HOA  oneKofl; \\nb) Tex  LIjienoB  OpraHH3aipni,  noHMeHOBaH-\\nHBIX  B CTaTBe  23,  KoiopBie  He ynpaBJiaioT  Tep-\\npHTopuaMH  noA oneKon; \\nc) TaKoro  racjia  Apyrax  \"ÇjieHOB  0praHH3a-\\nI^HH,  H3ÔpaHHBix  TEHEPAJIBHOH  AccaMÔJieciï  Ha \\nTpexroAOTHbii  cpoK,  KaKoe  MoateT  OKa3aiBca \\nHeoóxoAHMBiM  AJIA  oóecneieHHa  Toro,  ITOÓBI  06-\\nmee HHCJIO  HJIEHOB  CoBeTa  no OneKe  pacnpeAe-\\njiajiocB  nopoBHy  MeatAy  ^LienaMii  0praHH3  aipin, \\nynpaBJiEionçmn  M He ynpaBJiaionpiMH  Teppmo-\\npnHMH  HOA  oneitofi. \\n2. KaatABii  ^JieH  CoBeTa  no OneKe  Ha3eawr \\nOAHO  ocoóo  KBajiH^HHHpoBaHHoe  jn-mo,  KOTopoe \\nÔyAOT  ero npeACTaBraejieM  B CoBeTe  no OneKe. \\n0yHK1iUU  U IloMiOMOHUR \\nGmambn  87 \\nTeHepa-iBHaa  AccaMÔJiea  H HaxoAanpñca  noA \\nee pyKOBOACTBOM  CoBeT  no OneKe,  npii  BBinojiHe-\\nHHH  CBOHx  $yHKo;Hñ,  yno  JiHOMa^iiBaiOTca  : \\na) PaecMaTpiiBaTB  ornera,  npeACTaBJiaeMbie \\nynpaBJiaromjei  BJiacT&io; \\nb) IIPHHHMATB  neximiiH  H paecsiaTpHBaTB \\nHX, KOHcyjiBTHpyacB  c yiipaBJunon^eil  BJiacTBio; \\nc) YcrpaHBaiB  nepnoAirieciaie  noccin,emia \\ncooTBeTCTByionpix  TeppHTopHH  noA  oneKoiî,  B \\neorjiacoBaHHBie  e ynpaBjraioni¡eíi  bjirctlio  cpo-\\nKH, H \\nd) IIpeAnpHHHMaTB  ynoManyTBie  H  Apyrae \\nAeñcTBHa  B cooTBeiCTBHH  c ycjiOBHaMH  corjia-\\nmeHHH  06 oneKe.\\n--------------------\\n', additional_kwargs={}))], source_nodes=[NodeWithScore(node=TextNode(id_='51ecee3b-cc60-44d1-a8dc-03b27de41f31', embedding=None, metadata={'page_label': '116', 'file_name': 'UN_charter_all_lang.pdf', 'file_path': 'data/UN_charter_all_lang.pdf', 'file_type': 'application/pdf', 'file_size': 5728121, 'creation_date': '2023-12-02', 'last_modified_date': '2023-12-02', 'last_accessed_date': '2023-12-02'}, excluded_embed_metadata_keys=['file_name', 'file_type', 'file_size', 'creation_date', 'last_modified_date', 'last_accessed_date'], excluded_llm_metadata_keys=['file_name', 'file_type', 'file_size', 'creation_date', 'last_modified_date', 'last_accessed_date'], relationships={<NodeRelationship.SOURCE: '1'>: RelatedNodeInfo(node_id='83614c89-b39f-4f0a-af1b-2b008a0fd952', node_type=<ObjectType.DOCUMENT: '4'>, metadata={'page_label': '116', 'file_name': 'UN_charter_all_lang.pdf', 'file_path': 'data/UN_charter_all_lang.pdf', 'file_type': 'application/pdf', 'file_size': 5728121, 'creation_date': '2023-12-02', 'last_modified_date': '2023-12-02', 'last_accessed_date': '2023-12-02'}, hash='e79dc07f9693794343a0994e47a62f2f8d1dc4db659ace3b192a2c687bda6f71'), <NodeRelationship.PREVIOUS: '2'>: RelatedNodeInfo(node_id='92d80a57-1b18-43c6-abc8-88367a206ddc', node_type=<ObjectType.TEXT: '1'>, metadata={'page_label': '115', 'file_name': 'UN_charter_all_lang.pdf', 'file_path': 'data/UN_charter_all_lang.pdf', 'file_type': 'application/pdf', 'file_size': 5728121, 'creation_date': '2023-12-02', 'last_modified_date': '2023-12-02', 'last_accessed_date': '2023-12-02'}, hash='31d0011963b1e08c7e20974a4f43c5c3a67bdf3be7d7fcc0a49b21bb60b57fbf'), <NodeRelationship.NEXT: '3'>: RelatedNodeInfo(node_id='9632806e-6916-47b3-8fad-a74c62fe3641', node_type=<ObjectType.TEXT: '1'>, metadata={}, hash='55dc0d7983345072ef35b31e0ce59d190a8394538b2abbb6bd4fd7f82d0d445f')}, hash='14c064164219f846e7a09c1445968c8ff92fa9c461c9a0b810d3bd55b47b8535', text=\"VoMcoeame \\nCmarnósi  89 \\n1. KaatAHfi  'ijien  CoBeTa  no OneKe  HMeeT  OAHH \\nrojioc. \\n2. Peniemia  CoBeTa  no OneKe  npramiaioTca \\nÒOJIBHIHHCTBOM  rojiocoB  npneyTCTByionpx  n yqacT-\\nByionpx  B rojiocoBaHHH  uieHOB  CoBeTa. \\nIlpoìiedypa \\nCmambn  90 \\n1. CoBeT  no OneKe  iipninniaeT  CBOH  coócTBeH-\\nHBie  npaBHJia  nponeAyp&i,  BKJimaa  nopa^OK  H3-\\nópamia  CBofero IIpeAceAaTejia. \\n2. Bace^anna:  CoBeTa  no OneKe  co3HBaK>Tca  no \\nMepe  NAFTOÓHOCTH  B COOTBCTCTBHH  C ero npaBHJiaMH \\nnpoiie^ypBi,  K0T0p&ie  AOJMKHBI  npeAycMaipnBaTB \\nC03BIB  3ace,n,aHHH  no TpeóoBaHHio  óojitmHHCTBa \\niJieHOB  CoBeTa. \\nCmambn  91 \\nCoBex  no OneKe  nojn>3yeTca  B EOOTBETCTBY-\\nIOIHHX  cjiy^aax  noMomjbio  9K0H0MnqecK0r0  n Co-\\nnnajiBHoro  CoBeTa  H cneipajm3npoBaHHtix  yqpeac-\\nAeHHH  B OTHOraeHHH  BOnpOCOB,  B KOTOpBIX  OHH CO-\\nOTBeTCTBeHHO  3aHHTepeeoBam>i. \\nrjiABA  xiv \\nMm^yHAPojijìHH  cy# \\nCmambn  92 \\nMeaEflyHapoflHbra  CyA aBJiaeica  rjiaBHHM  cy^eó-\\nHBIM  OPRAHOM  0praHH3an,HH  OÓ'EAHHENHTIX  Hannft. \\nOH AeficTByeT  B COOTB6TCTBHH  C  npmiaraeMBM \\nCTaxyTOM,  K0T0pbiH  OGHOBaH  Ha CTaiyTe  IIocToaH-\\nHOH IlajiaTBi  MeatAyHapoAHoro  IIpaBocyAHa  H 06-\\npa3yeT Heoi'eMjieMyio  ^acTB nacToam;ero  YcTaBa. \\nCmambn  93 \\n1. Bce  ^Jierai  OpraHH3anroi  AB.iaioTca  ipso \\nfacto  yqacTHHKaMH  CTaTyra  MeatAyHapoAHoro \\nCyAa. \\n2. rocyAapciBO,  He aBJiaromeeca  ^jieHOM  Opra-\\nHH3aiiHH,  MoateT  CTSTB  yiacTHHKOM  OraTyTa  Meat-AyHapoAHoro  CyAa,  Ha ycjiOBHax,  K0T0pBie  onpe-\\nAejraioTca,  B KaacAOM  OTAejitHOM  cjiyiae,  TeHe-\\npajiLHofi  AccaMÓJieeH  no peKOMeHAaipH  CoBeia \\nBe30nacH0ciH. \\nCmambn  94 \\n1. KaatAwìì  ^jieH  OpraHH3anHH  o6a3yeica  BBI-\\nnojiHHTB  peraeHHe  MeatAynapoAHoro  CyAa  no TO-\\nMy AeJiy,  B KOTOPOM  OH aBjiaeTca  CToponoft. \\n2.\", start_char_idx=0, end_char_idx=1743, text_template='{metadata_str}\\n\\n{content}', metadata_template='{key}: {value}', metadata_seperator='\\n'), score=0.7943128372136432), NodeWithScore(node=TextNode(id_='3db06b16-1072-46ad-ba76-6f9d4cabebc9', embedding=None, metadata={'page_label': '115', 'file_name': 'UN_charter_all_lang.pdf', 'file_path': 'data/UN_charter_all_lang.pdf', 'file_type': 'application/pdf', 'file_size': 5728121, 'creation_date': '2023-12-02', 'last_modified_date': '2023-12-02', 'last_accessed_date': '2023-12-02'}, excluded_embed_metadata_keys=['file_name', 'file_type', 'file_size', 'creation_date', 'last_modified_date', 'last_accessed_date'], excluded_llm_metadata_keys=['file_name', 'file_type', 'file_size', 'creation_date', 'last_modified_date', 'last_accessed_date'], relationships={<NodeRelationship.SOURCE: '1'>: RelatedNodeInfo(node_id='6a5b57a3-dbfe-44cd-ba27-9bf39b9beb9b', node_type=<ObjectType.DOCUMENT: '4'>, metadata={'page_label': '115', 'file_name': 'UN_charter_all_lang.pdf', 'file_path': 'data/UN_charter_all_lang.pdf', 'file_type': 'application/pdf', 'file_size': 5728121, 'creation_date': '2023-12-02', 'last_modified_date': '2023-12-02', 'last_accessed_date': '2023-12-02'}, hash='7dd80679f851e97f9f3a2efade8aa333f693d42bc0049e3679997cee7e30c60f'), <NodeRelationship.PREVIOUS: '2'>: RelatedNodeInfo(node_id='982354c7-e803-4e19-bf8e-13c09162573c', node_type=<ObjectType.TEXT: '1'>, metadata={'page_label': '115', 'file_name': 'UN_charter_all_lang.pdf', 'file_path': 'data/UN_charter_all_lang.pdf', 'file_type': 'application/pdf', 'file_size': 5728121, 'creation_date': '2023-12-02', 'last_modified_date': '2023-12-02', 'last_accessed_date': '2023-12-02'}, hash='9d2369fb610ff7e5c6b28232e01d332d05cdca14998090e5cfb27102f66b6e43'), <NodeRelationship.NEXT: '3'>: RelatedNodeInfo(node_id='92d80a57-1b18-43c6-abc8-88367a206ddc', node_type=<ObjectType.TEXT: '1'>, metadata={}, hash='31d0011963b1e08c7e20974a4f43c5c3a67bdf3be7d7fcc0a49b21bb60b57fbf')}, hash='5ed6a63bbded1b2ff020bb2129a4f4469032832deca9bbc40ce24081f63b9b74', text='2. CoBeT  no OneKe,  AeficTByioniiiH  noA pyKo-\\nBOACTBOM  renepajiBiioH  AccaMÓJien,  noMoraeT  Te-\\nHepaji&Hoñ  AceaMÔJiee  B BbinojiHemm  9THX  $ymc-\\nHHFL. \\nrJIABA  XIII \\nCOBET  no  OHEKE \\nGocmae \\nCmambsi  86 \\n1. CoBeT  no OneKe  COCTOHT  H3 cjieAyionpix \\nÍjieHOB  OpraHH3anHH  Oó\\'eAHHeHHBix  Hamiit: a) Tex  Ojíenos  0praHH3annH,  KOTopBie \\nynpaBJiaioT  TeppHTopnaMH  HOA  oneKofl; \\nb) Tex  LIjienoB  OpraHH3aipni,  noHMeHOBaH-\\nHBIX  B CTaTBe  23,  KoiopBie  He ynpaBJiaioT  Tep-\\npHTopuaMH  noA oneKon; \\nc) TaKoro  racjia  Apyrax  \"ÇjieHOB  0praHH3a-\\nI^HH,  H3ÔpaHHBix  TEHEPAJIBHOH  AccaMÔJieciï  Ha \\nTpexroAOTHbii  cpoK,  KaKoe  MoateT  OKa3aiBca \\nHeoóxoAHMBiM  AJIA  oóecneieHHa  Toro,  ITOÓBI  06-\\nmee HHCJIO  HJIEHOB  CoBeTa  no OneKe  pacnpeAe-\\njiajiocB  nopoBHy  MeatAy  ^LienaMii  0praHH3  aipin, \\nynpaBJiEionçmn  M He ynpaBJiaionpiMH  Teppmo-\\npnHMH  HOA  oneitofi. \\n2. KaatABii  ^JieH  CoBeTa  no OneKe  Ha3eawr \\nOAHO  ocoóo  KBajiH^HHHpoBaHHoe  jn-mo,  KOTopoe \\nÔyAOT  ero npeACTaBraejieM  B CoBeTe  no OneKe. \\n0yHK1iUU  U IloMiOMOHUR \\nGmambn  87 \\nTeHepa-iBHaa  AccaMÔJiea  H HaxoAanpñca  noA \\nee pyKOBOACTBOM  CoBeT  no OneKe,  npii  BBinojiHe-\\nHHH  CBOHx  $yHKo;Hñ,  yno  JiHOMa^iiBaiOTca  : \\na) PaecMaTpiiBaTB  ornera,  npeACTaBJiaeMbie \\nynpaBJiaromjei  BJiacT&io; \\nb) IIPHHHMATB  neximiiH  H paecsiaTpHBaTB \\nHX, KOHcyjiBTHpyacB  c yiipaBJunon^eil  BJiacTBio; \\nc) YcrpaHBaiB  nepnoAirieciaie  noccin,emia \\ncooTBeTCTByionpix  TeppHTopHH  noA  oneKoiî,  B \\neorjiacoBaHHBie  e ynpaBjraioni¡eíi  bjirctlio  cpo-\\nKH, H \\nd) IIpeAnpHHHMaTB  ynoManyTBie  H  Apyrae \\nAeñcTBHa  B cooTBeiCTBHH  c ycjiOBHaMH  corjia-\\nmeHHH  06 oneKe.', start_char_idx=1311, end_char_idx=2948, text_template='{metadata_str}\\n\\n{content}', metadata_template='{key}: {value}', metadata_seperator='\\n'), score=0.794311935479088)])"
      ]
     },
     "execution_count": 41,
     "metadata": {},
     "output_type": "execute_result"
    }
   ],
   "source": [
    "chat.chat(\"Hello, what is your name??\")"
   ]
  },
  {
   "cell_type": "code",
   "execution_count": 14,
   "metadata": {},
   "outputs": [],
   "source": [
    "def get_models(email, password):\n",
    "    url = 'http://127.0.0.1:5000/get_account_models'  # Replace with the actual URL of your Flask app\n",
    "\n",
    "    # Replace with the actual data you want to send\n",
    "    data = {\n",
    "        'email': 'gabrielguerratrigo20@gmail.com',\n",
    "        'password': '123',\n",
    "    }\n",
    "\n",
    "    response = requests.post(url, data=data)\n",
    "    return response\n"
   ]
  },
  {
   "cell_type": "code",
   "execution_count": 15,
   "metadata": {},
   "outputs": [],
   "source": [
    "res = get_models(\"a\", \"b\")"
   ]
  },
  {
   "cell_type": "code",
   "execution_count": 19,
   "metadata": {},
   "outputs": [
    {
     "data": {
      "text/plain": [
       "{'models': [{'model_name': 'Original Model'}]}"
      ]
     },
     "execution_count": 19,
     "metadata": {},
     "output_type": "execute_result"
    }
   ],
   "source": [
    "json.loads(res.content.decode('utf-8'))"
   ]
  },
  {
   "cell_type": "code",
   "execution_count": null,
   "metadata": {},
   "outputs": [],
   "source": []
  },
  {
   "cell_type": "code",
   "execution_count": null,
   "metadata": {},
   "outputs": [],
   "source": []
  }
 ],
 "metadata": {
  "kernelspec": {
   "display_name": ".venv",
   "language": "python",
   "name": "python3"
  },
  "language_info": {
   "codemirror_mode": {
    "name": "ipython",
    "version": 3
   },
   "file_extension": ".py",
   "mimetype": "text/x-python",
   "name": "python",
   "nbconvert_exporter": "python",
   "pygments_lexer": "ipython3",
   "version": "3.11.6"
  }
 },
 "nbformat": 4,
 "nbformat_minor": 2
}
